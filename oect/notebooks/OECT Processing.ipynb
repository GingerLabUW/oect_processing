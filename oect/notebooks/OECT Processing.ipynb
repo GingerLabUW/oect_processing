{
 "cells": [
  {
   "cell_type": "markdown",
   "metadata": {},
   "source": [
    "# OECT Processing\n",
    "## Rajiv Giridharagopal\n",
    "\n",
    "This notebook introduces the OECT package and how to process OECT data. For further information, documentation can be found online (eventually!). In the meantime, this package will go through some of the basics.\n",
    "\n",
    "The **oect** package allows you to do the following:\n",
    "\n",
    "* Extract transfer and output curves from text files\n",
    "* Generate a uC* plot from several devices, assuming you have the dimensions saved in a config file\n",
    "* Allows easy plotting of threshold voltage calculation, transfer curves, transconductance, output curves\n",
    "* Enables easy saving of the device data \n",
    "\n",
    "It essentially uses two Python Class objects\n",
    "1) an **OECT** Class for processing a single dataset (a particular channel, say)\n",
    "\n",
    "2) an **OECTDevice** Class for processing a folder of many devices. \n",
    "\n"
   ]
  },
  {
   "cell_type": "code",
   "execution_count": 3,
   "metadata": {},
   "outputs": [],
   "source": [
    "import os, sys\n",
    "os.chdir(r'..')\n",
    "sys.path.append(os.getcwd())\n",
    "import oect"
   ]
  },
  {
   "cell_type": "code",
   "execution_count": null,
   "metadata": {},
   "outputs": [],
   "source": []
  }
 ],
 "metadata": {
  "kernelspec": {
   "display_name": "Python 3",
   "language": "python",
   "name": "python3"
  },
  "language_info": {
   "codemirror_mode": {
    "name": "ipython",
    "version": 3
   },
   "file_extension": ".py",
   "mimetype": "text/x-python",
   "name": "python",
   "nbconvert_exporter": "python",
   "pygments_lexer": "ipython3",
   "version": "3.7.9"
  }
 },
 "nbformat": 4,
 "nbformat_minor": 4
}
