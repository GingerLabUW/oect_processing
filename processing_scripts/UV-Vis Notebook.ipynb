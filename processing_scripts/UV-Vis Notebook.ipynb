{
 "cells": [
  {
   "cell_type": "markdown",
   "metadata": {},
   "source": [
    "# For processing UV-Vis spectroelectrochemistry data\n",
    "### Rajiv Giridharagopal, rgiri@uw.edu\n",
    "\n",
    "You can run this notebook by hitting **shift-click** on each cell (including this one!)\n",
    "\n",
    "You will need to set the data_path below in cell [47] where it says \"COPY_PATH_TO_FOLDER_HERE\"  \n",
    "> r'C:\\Users\\Raj\\OneDrive\\Documents\\Word\\uvvis'  \n",
    "\n",
    "When you copy-paste, ONLY overwrite the part within quotes. Leave the r' ' intact  "
   ]
  },
  {
   "cell_type": "code",
   "execution_count": 4,
   "metadata": {},
   "outputs": [],
   "source": [
    "import uvvis\n",
    "import cv\n",
    "from matplotlib import pyplot as plt\n",
    "import numpy as np\n",
    "import scipy as sps\n",
    "import pickle\n",
    "import pandas as pd\n",
    "\n",
    "plt.rcParams.update({'font.size': 22})\n",
    "plt.rcParams['figure.figsize'] = (16, 8)"
   ]
  },
  {
   "cell_type": "markdown",
   "metadata": {},
   "source": [
    "### Set up Data paths and global processing variables"
   ]
  },
  {
   "cell_type": "code",
   "execution_count": 5,
   "metadata": {},
   "outputs": [],
   "source": [
    "# 1) Set up the data path\n",
    "# e.g. r'C:\\Users\\Raj\\OneDrive\\Documents\\Word\\uvvis'\n",
    "data_path = r'C:\\Users\\Raj\\SkyDrive\\UW Work\\Data\\Polymer OECT work\\DPP3TEG-1\\uvvis\\20191015\\03 - Neat 10 mgmL KPF6\\raw'\n",
    "\n",
    "# don't edit this\n",
    "if data_path == 'COPY_PATH_TO_FOLDER_HERE':\n",
    "    from oect_load import file_open\n",
    "    data_path = file_open(caption='Select folder to load from')\n",
    "    print('Loading from', data_path)\n",
    "    # For the same of this demo notebook, I'll pull up some old data.\n",
    "    # Comment out this line when you want to actually run this! Just type a # in front of the line\n",
    "#data_path = r'C:\\Users\\Raj\\OneDrive\\UW Work\\Data\\DPP-DTT\\_uvVis\\20190306 - DPPDTT 28 20 mgmL\\01 - 28 20 mg unwashed KPF6'\n",
    "\n",
    "# 2) Select the wavelength for extracting kinetics, and the potential for plotting time-dependent spectra\n",
    "wavelength = 500\n",
    "potential = 0.7\n",
    "\n",
    "# 3) For saving the figures, add a small string to the filename. e.g. \"20190825\". By default it's blank\n",
    "filenamestring = ''\n",
    "\n",
    "# 4) Save path. By default this will just be in the data path\n",
    "path = data_path"
   ]
  },
  {
   "cell_type": "code",
   "execution_count": 6,
   "metadata": {},
   "outputs": [],
   "source": [
    "# This block reads all the text files and saves them as a list of file paths for Python to read\n",
    "#   Steps = the voltage steps. Not actually needed but it contains the current\n",
    "#   Specs = spectra\n",
    "#   Volts = potentials extracted from the steps files\n",
    "\n",
    "steps, specs, volts, dedopesteps, dedopespecs = uvvis.read_files(data_path)"
   ]
  },
  {
   "cell_type": "markdown",
   "metadata": {},
   "source": [
    "## 1. Process Data!\n",
    "\n",
    "#### Here's what this block does:\n",
    "\n",
    "First, we load the data as a uvvis object\n",
    "> data = uvvis.uvvis(steps, specs, volts)\n",
    "\n",
    "1) Now, we process the data by reading in all the spectra at each voltage.  \n",
    "This step takes all the spectra and saves the time=0 s (initial) spectra at each voltage as a big matrix\n",
    "It then extracts absorbance vs voltage at a specific wavelength. The command below is at 500 nm\n",
    "> data.spec_echem_voltage(wavelength=500)\n",
    "\n",
    "2) Then, we create a giant dictionary that contains a huge matrix of each time-dependent spectra  \n",
    "> data.time_dep_spectra()\n",
    "\n",
    "To access the 0.7 V, for example, you'd run this then type \n",
    "> data.spectra_vs_time[0.7]\n",
    "\n",
    "3) Finally, we extract a single time-dependent kinetics trace. Edit the potential and wavelength (wl) based on your data. The command below plots the kinetics for the 0.7 V case and wavelength=500 nm:\n",
    "> data.single_wl_time(wavelength = 500, potential = 0.7)\n",
    "\n",
    "4) As an option, we can extract the current from the 'steps' files. This is not that critical\n",
    "> data.current_vs_time()\n",
    "\n",
    "Lastly, this saves the data as 2 \".PKL\" (pickle) files, dopingdata.pkl and dedopingdata.pkl. It's ~120 MB as opposed to 2 GB, and contains all the data!"
   ]
  },
  {
   "cell_type": "code",
   "execution_count": 7,
   "metadata": {},
   "outputs": [
    {
     "name": "stdout",
     "output_type": "stream",
     "text": [
      "Loaded existing doping data\n",
      "Loaded existing dedoping data\n",
      "If you REALLY want to re-process all the data, change overwrite to True. You should not need to do this.\n"
     ]
    }
   ],
   "source": [
    "# Load Data\n",
    "\n",
    "# Did you already load any data? If so, this avoids reprocessing. You can manually override this by changing to True\n",
    "overwrite = False\n",
    "\n",
    "if not overwrite:\n",
    "    try:\n",
    "        with open(path + r'\\dopingdata.pkl', 'rb') as input:\n",
    "            data = pickle.load(input)\n",
    "        print('Loaded existing doping data')\n",
    "        with open(path + r'\\dedopingdata.pkl', 'rb') as input:\n",
    "            dedata = pickle.load(input)\n",
    "        print('Loaded existing dedoping data')\n",
    "        print('If you REALLY want to re-process all the data, change overwrite to True. You should not need to do this.')\n",
    "    except:\n",
    "        overwrite = True\n",
    "\n",
    "if overwrite:\n",
    "    ####### LOAD DATA ######\n",
    "    data = uvvis.uv_vis(steps, specs, volts)\n",
    "\n",
    "    # Actual processing of data. This takes a long time!!\n",
    "    print('Processing data...hold on!')\n",
    "    print('Generating spectra vs time')\n",
    "    data.time_dep_spectra(specfiles=specs) \n",
    "    print('Extracting single wavelength kinetics')\n",
    "    data.single_wl_time(wavelength=wavelength, potential=potential)\n",
    "    print('Current extraction')\n",
    "    data.current_vs_time(stepfiles=steps)\n",
    "    print('Total integrated charge at each voltage')\n",
    "    print(data.charge)\n",
    "    print('Single DataFrame of time slice t=0')\n",
    "    data.spec_echem_voltage(time=0)\n",
    "    \n",
    "    with open(path + '\\dopingdata.pkl', 'wb') as output:\n",
    "    \n",
    "        pickle.dump(data, output, pickle.HIGHEST_PROTOCOL)\n",
    "\n",
    "    if any(dedopespecs):\n",
    "        dedata = uvvis.uv_vis(dedopesteps, dedopespecs, volts)\n",
    "        print('### Dedoping Data ###' )\n",
    "        \n",
    "        print('Processing data...hold on!')\n",
    "        print('Generating spectra vs time')\n",
    "        dedata.time_dep_spectra(specfiles=specs)\n",
    "    #    data.spec_echem_voltage(species=specs)\n",
    "        print('Extracting single wavelength kinetics')\n",
    "        dedata.single_wl_time(wavelength=wavelength, potential=potential)\n",
    "        print('Current extraction')\n",
    "        dedata.current_vs_time(stepfiles=steps)\n",
    "        print('Total integrated charge at each voltage')\n",
    "        print(dedata.charge)\n",
    "        print('Single DataFrame of time slice t=0')\n",
    "        dedata.spec_echem_voltage(time=0)\n",
    "        with open(path + '\\dedopingdata.pkl', 'wb') as output:\n",
    "    \n",
    "            pickle.dump(dedata, output, pickle.HIGHEST_PROTOCOL)\n",
    "    else:\n",
    "        dedata = [] # flag for later"
   ]
  },
  {
   "cell_type": "code",
   "execution_count": null,
   "metadata": {},
   "outputs": [],
   "source": [
    "# Saves as an HDF5, more flexible than a Pickle\n",
    "import h5py\n",
    "\n",
    "with h5py.File(data_path+'\\dopingdata.h5', 'w') as f:\n",
    "    dset = f.create_dataset('potentials', (len(data.potentials),))\n",
    "    dset[:] = data.potentials[:]\n",
    "    dset = f.create_dataset('charge', (len(data.charge.values[0]),))\n",
    "    dset[:] = data.charge.values[0][:]\n",
    "f.close()\n",
    "\n",
    "for p in data.spectra_vs_time:\n",
    "    data.spectra_vs_time[p].to_hdf(data_path+'\\dopingdata.h5', key='x'+str(p), mode='a')\n",
    "    \n",
    "data.current.to_hdf(data_path+'\\dopingdata.h5', key ='current', mode='a')\n",
    "\n",
    "with h5py.File(data_path+'\\dedopingdata.h5', 'w') as f:\n",
    "    dset = f.create_dataset('potentials', (len(dedata.potentials),))\n",
    "    dset[:] = dedata.potentials[:]\n",
    "    dset = f.create_dataset('charge', (len(dedata.charge.values[0]),))\n",
    "    dset[:] = dedata.charge.values[0][:]\n",
    "f.close()\n",
    "    \n",
    "for p in dedata.spectra_vs_time:\n",
    "    data.spectra_vs_time[p].to_hdf(data_path+'\\dedopingdata.h5', key='x'+str(p), mode='a')\n",
    "dedata.current.to_hdf(data_path+'\\dedopingdata.h5', key ='current', mode='a')"
   ]
  },
  {
   "cell_type": "markdown",
   "metadata": {},
   "source": [
    "## 2. Cool Plots!\n",
    "\n",
    "### First, simple spectra vs voltage"
   ]
  },
  {
   "cell_type": "code",
   "execution_count": null,
   "metadata": {},
   "outputs": [],
   "source": [
    "fig, ax = plt.subplots(nrows=1, figsize=(12,8), facecolor='white')\n",
    "plt.rcParams.update({'font.size': 22})\n",
    "\n",
    "# This block just generates a cool colormap\n",
    "# In the last line, you can replace \"bone\" with any colormap name from here: \n",
    "#     https://matplotlib.org/3.1.1/gallery/color/colormap_reference.html\n",
    "cm = np.linspace(0.2,0.75,len(data.spectra_sm.columns))\n",
    "for i,cl in zip(data.spectra_sm, cm):\n",
    "    ax.plot(data.spectra_sm[i], linewidth=3,\n",
    "           color=plt.cm.bone(cl))  \n",
    "\n",
    "ax.set_xlabel('Wavelength (nm)')\n",
    "ax.set_ylabel('Absorbance (a.u.)')\n",
    "ax.legend(labels = data.potentials)\n",
    "ax.set_title('Time=0 s data at each potential step')\n",
    "\n",
    "plt.savefig(path + r'\\\\' + 'Doping Spectra, t=0 s'+filenamestring+'.jpg')\n",
    "\n",
    "if dedata:\n",
    "    fig, ax = plt.subplots(nrows=1, figsize=(12,8), facecolor='white')\n",
    "    plt.rcParams.update({'font.size': 22})\n",
    "\n",
    "    # This block just generates a cool colormap\n",
    "    # In the last line, you can replace \"bone\" with any colormap name from here: \n",
    "    #     https://matplotlib.org/3.1.1/gallery/color/colormap_reference.html\n",
    "    cm = np.linspace(0.2,0.75,len(data.spectra_sm.columns))\n",
    "    for i,cl in zip(dedata.spectra_sm, cm):\n",
    "        ax.plot(dedata.spectra_sm[i], linewidth=3,\n",
    "               color=plt.cm.bone(cl))  \n",
    "\n",
    "    ax.set_xlabel('Wavelength (nm)')\n",
    "    ax.set_ylabel('Absorbance (a.u.)')\n",
    "    ax.legend(labels = dedata.potentials)\n",
    "    ax.set_title('Time=0 s data at each dedoping potential step')\n",
    "\n",
    "    plt.savefig(path + r'\\\\' + 'Dedoping Spectra, t=0 s'+filenamestring+'.jpg')\n"
   ]
  },
  {
   "cell_type": "markdown",
   "metadata": {},
   "source": [
    "### Now, let's plot spectra vs time for a particular voltage.\n",
    "##### Change this line\n",
    "> potential = 0.7 \n",
    "##### to whatever voltage you want to plot the kinetics of"
   ]
  },
  {
   "cell_type": "code",
   "execution_count": null,
   "metadata": {},
   "outputs": [],
   "source": [
    "fig, ax = plt.subplots(nrows=1, figsize=(12,8),  facecolor='white')\n",
    "\n",
    "potential = 1 # Change this to whatever voltage you want to plot\n",
    "\n",
    "endtime = data.spectra_vs_time[potential].columns[-1]\n",
    "cm = np.linspace(0.2,0.75,len(data.spectra_vs_time[potential].columns))\n",
    "for i,cl in zip(data.spectra_vs_time[potential], cm):\n",
    "    ax.plot(data.spectra_vs_time[potential][i], color=plt.cm.bone(cl*1))\n",
    "    \n",
    "ax.set_xlabel('Wavelength (nm)')\n",
    "ax.set_ylabel('Absorbance (a.u.)')\n",
    "ax.set_title(str(potential) +' V kinetics over ' + str(endtime) + ' s')\n",
    "\n",
    "plt.savefig(path + r'\\\\' + 'Kinetics at '+str(potential) +' V over ' + str(endtime) + ' s'+filenamestring+'.jpg')\n",
    "\n",
    "if dedata:\n",
    "    fig, ax = plt.subplots(nrows=1, figsize=(12,8),  facecolor='white')\n",
    "\n",
    "    #potential = 0.7 # Change this to whatever voltage you want to plot\n",
    "\n",
    "    endtime = dedata.spectra_vs_time[potential].columns[-1]\n",
    "    cm = np.linspace(0.2,0.75,len(data.spectra_vs_time[potential].columns))\n",
    "    for i,cl in zip(dedata.spectra_vs_time[potential], cm):\n",
    "        ax.plot(dedata.spectra_vs_time[potential][i], color=plt.cm.bone(cl*1))\n",
    "\n",
    "    ax.set_xlabel('Wavelength (nm)')\n",
    "    ax.set_ylabel('Absorbance (a.u.)')\n",
    "    ax.set_title(str(potential) +' V dedoping kinetics over ' + str(endtime) + ' s')\n",
    "\n",
    "    plt.savefig(path + r'\\\\' + 'Dedoping Kinetics at '+str(potential) +' V over ' + str(endtime) + ' s'+filenamestring+'.jpg')\n"
   ]
  },
  {
   "cell_type": "markdown",
   "metadata": {},
   "source": [
    "### Plot the kinetics at a particular wavelength and voltage\n",
    "\n",
    "##### Change these lines\n",
    "> potential = 0.7  \n",
    "> wavelength = 800  \n",
    "##### to whatever voltage and wavelength you want"
   ]
  },
  {
   "cell_type": "code",
   "execution_count": null,
   "metadata": {},
   "outputs": [],
   "source": [
    "def exp_fit(t, y, A, tau):\n",
    "    return y + A * np.exp(-t / tau)"
   ]
  },
  {
   "cell_type": "code",
   "execution_count": null,
   "metadata": {
    "scrolled": true
   },
   "outputs": [],
   "source": [
    "# Changes these two lines to whatever potential and wavelength you want\n",
    "potential = 1\n",
    "wavelength = 780\n",
    "\n",
    "data.single_wl_time(potential=potential, wavelength = wavelength)\n",
    "fig, ax = plt.subplots(nrows=1, figsize=(12,8),  facecolor='white')\n",
    "uvvis.plot_time(data, ax=ax, **{'color':'r', 'linewidth': 3})\n",
    "ax.set_title('Kinetics at ' + str(wavelength) + ' nm, ' + str(potential) + ' V')\n",
    "\n",
    "plt.savefig(path + r'\\\\' + 'Kinetics at ' + str(wavelength) + ' nm, ' + str(potential) + ' V'\n",
    "            +filenamestring+'.jpg')\n",
    "\n",
    "if dedata:\n",
    "    dedata.single_wl_time(potential=potential, wavelength = wavelength)\n",
    "    fig, ax = plt.subplots(nrows=1, figsize=(12,8),  facecolor='white')\n",
    "    uvvis.plot_time(dedata, ax=ax, **{'color':'r', 'linewidth': 3})\n",
    "    ax.set_title('Dedoping Kinetics at ' + str(wavelength) + ' nm, ' + str(potential) + ' V')\n",
    "\n",
    "    plt.savefig(path + r'\\\\' + 'Dedope Kinetics at ' + str(wavelength) + ' nm, ' + str(potential) + ' V'\n",
    "                +filenamestring+'.jpg')\n",
    "    \n",
    "fig, ax1 = plt.subplots(nrows=1, figsize=(12,8),  facecolor='white')\n",
    "uvvis.plot_voltage(data, ax=ax1, time=0, **{'color':'r', 'linewidth': 0, 'marker':'s'})\n",
    "ax1.set_title('Threshold at ' + str(wavelength) + ' nm')\n",
    "\n",
    "plt.savefig(path + r'\\\\' + 'Threshold at ' + str(wavelength) + ' nm'\n",
    "            +filenamestring+'.jpg')"
   ]
  },
  {
   "cell_type": "markdown",
   "metadata": {},
   "source": [
    "### Plot the kinetics over a band of wavelengths at a given voltage and/or charge integrated"
   ]
  },
  {
   "cell_type": "code",
   "execution_count": null,
   "metadata": {},
   "outputs": [],
   "source": [
    "#Choose wavelengths to plot about\n",
    "wl_start = 750\n",
    "wl_stop = 850\n",
    "potentials = [0.7, 0.8, 0.9, 1]\n",
    "\n",
    "times = {}\n",
    "\n",
    "fig, ax = plt.subplots(nrows=1, figsize=(12,8),  facecolor='white')\n",
    "for p in potentials:\n",
    "    data.banded_fits(wl_start = wl_start, wl_stop = wl_stop, voltage=p)\n",
    "    times[p] = data.fits\n",
    "    ax.plot(p * np.ones(len(data.fits)), data.fits, 'o')\n",
    "    \n",
    "ax.set_ylabel('Time Constant (s)')\n",
    "ax.set_xlabel('Potential (V)')\n",
    "plt.savefig(path + r'\\\\' + 'Doping Potential-Dependent Kinetics from' + str(wl_start) + ' nm to ' + str(wl_stop ) + ' nm'\n",
    "            +filenamestring+'.jpg')\n",
    "            \n",
    "fig, ax = plt.subplots(nrows=1, figsize=(12,8),  facecolor='white')\n",
    "for p in potentials:\n",
    "    data.banded_fits(wl_start = wl_start, wl_stop = wl_stop, voltage=p)\n",
    "    times[p] = data.fits\n",
    "    ax.plot(p * np.ones(len(data.fits)), np.array(data.fits)**-1, 'o')\n",
    "    \n",
    "ax.set_ylabel('Rate Constant (Hz)')\n",
    "ax.set_xlabel('Potential (V)')\n",
    "plt.savefig(path + r'\\\\' + 'Doping Potential-Dependent Rates from' + str(wl_start) + ' nm to ' + str(wl_stop ) + ' nm'\n",
    "            +filenamestring+'.jpg')"
   ]
  },
  {
   "cell_type": "code",
   "execution_count": null,
   "metadata": {},
   "outputs": [],
   "source": [
    "#Choose wavelengths to plot about\n",
    "wl_start = 750\n",
    "wl_stop = 850\n",
    "potentials = [0.7, 0.8, 0.9, 1]\n",
    "\n",
    "times = {}\n",
    "\n",
    "fig, ax = plt.subplots(nrows=1, figsize=(12,8),  facecolor='white')\n",
    "for p in potentials:\n",
    "    data.banded_fits(wl_start = wl_start, wl_stop = wl_stop, voltage=p)\n",
    "    times[p] = data.fits\n",
    "    ax.plot(data.charge[p].values * np.ones(len(data.fits)), data.fits, 'o')\n",
    "    \n",
    "ax.set_ylabel('Time Constant (s)')\n",
    "ax.set_xlabel('Charge injected (mC)')\n",
    "plt.savefig(path + r'\\\\' + 'Doping Charge-Dependent Kinetics from' + str(wl_start) + ' nm to ' + str(wl_stop ) + ' nm'\n",
    "            +filenamestring+'.jpg')\n",
    "            \n",
    "fig, ax = plt.subplots(nrows=1, figsize=(12,8),  facecolor='white')\n",
    "for p in potentials:\n",
    "    data.banded_fits(wl_start = wl_start, wl_stop = wl_stop, voltage=p)\n",
    "    times[p] = data.fits\n",
    "    ax.plot(data.charge[p].values * np.ones(len(data.fits)), np.array(data.fits)**-1, 'o')\n",
    "    \n",
    "ax.set_ylabel('Rate Constant (Hz)')\n",
    "ax.set_xlabel('Charge injected (mC)')\n",
    "plt.savefig(path + r'\\\\' + 'Doping Charge-Dependent Rates from' + str(wl_start) + ' nm to ' + str(wl_stop ) + ' nm'\n",
    "            +filenamestring+'.jpg')"
   ]
  },
  {
   "cell_type": "markdown",
   "metadata": {},
   "source": [
    "### Plot the kinetics as a rad-looking spectrogram\n",
    "\n",
    "#### These data are not actually any different from the above kinetics data"
   ]
  },
  {
   "cell_type": "code",
   "execution_count": null,
   "metadata": {},
   "outputs": [],
   "source": [
    "# Change potential to whatever voltage you want\n",
    "# change cmap only if you know what that means\n",
    "potential = 0.7\n",
    "kwargs = {}\n",
    "kwargs['cmap'] = 'icefire'\n",
    "\n",
    "# Sets up two dataframes for plotting\n",
    "import pandas as pd\n",
    "import seaborn as sns\n",
    "wl = np.round(data.spectra_vs_time[potential].index.values, 2)\n",
    "df = pd.DataFrame.copy(data.spectra_vs_time[potential])\n",
    "df = df.set_index(wl)\n",
    "dfv = pd.DataFrame.copy(data.spectra_sm)\n",
    "dfv = dfv.set_index(wl)\n",
    "\n",
    "# spectra vs time\n",
    "fig, ax0 = plt.subplots(nrows = 1, figsize=(12,9), facecolor='white')\n",
    "sns.heatmap(df,ax=ax0, **kwargs)    \n",
    "ax0.set_xlabel('Time (s)')\n",
    "ax0.set_ylabel('Wavelength (nm)')\n",
    "plt.savefig(path + r'\\\\' + 'Spectrogram at ' + str(potential) + ' V '+filenamestring+'.jpg')\n",
    "\n",
    "# spectra vs voltage\n",
    "fig, ax1 = plt.subplots(nrows = 1, figsize=(12,9), facecolor='white')\n",
    "sns.heatmap(dfv,ax=ax1, **kwargs)    \n",
    "ax1.set_xlabel('Voltage (V)')\n",
    "ax1.set_ylabel('Wavelength (nm)')\n",
    "\n",
    "plt.savefig(path + r'\\\\' + 'Spectrogram at t = 0 s'\n",
    "            +filenamestring+'.jpg')"
   ]
  },
  {
   "cell_type": "code",
   "execution_count": null,
   "metadata": {},
   "outputs": [],
   "source": [
    "if dedata:\n",
    "        # Change potential to whatever voltage you want\n",
    "    # change cmap only if you know what that means\n",
    "    #potential = 0.7\n",
    "    kwargs = {}\n",
    "    kwargs['cmap'] = 'icefire'\n",
    "\n",
    "    # Sets up two dataframes for plotting\n",
    "    import pandas as pd\n",
    "    import seaborn as sns\n",
    "    wl = np.round(dedata.spectra_vs_time[potential].index.values, 2)\n",
    "    df = pd.DataFrame.copy(dedata.spectra_vs_time[potential])\n",
    "    df = df.set_index(wl)\n",
    "    dfv = pd.DataFrame.copy(dedata.spectra_sm)\n",
    "    dfv = dfv.set_index(wl)\n",
    "\n",
    "    # spectra vs time\n",
    "    fig, ax0 = plt.subplots(nrows = 1, figsize=(12,9), facecolor='white')\n",
    "    sns.heatmap(df,ax=ax0, **kwargs)    \n",
    "    ax0.set_xlabel('Time (s)')\n",
    "    ax0.set_ylabel('Wavelength (nm)')\n",
    "    plt.savefig(path + r'\\\\' + 'Dedoping Spectrogram at ' + str(potential) + ' V '+filenamestring+'.jpg')\n",
    "\n",
    "    # spectra vs voltage\n",
    "    fig, ax1 = plt.subplots(nrows = 1, figsize=(12,9), facecolor='white')\n",
    "    sns.heatmap(dfv,ax=ax1, **kwargs)    \n",
    "    ax1.set_xlabel('Voltage (V)')\n",
    "    ax1.set_ylabel('Wavelength (nm)')\n",
    "\n",
    "    plt.savefig(path + r'\\\\' + 'Dedoping Spectrogram at t = 0 s'\n",
    "                +filenamestring+'.jpg')"
   ]
  },
  {
   "cell_type": "markdown",
   "metadata": {},
   "source": [
    "## 3. A brief tour through what this all contains for your reference\n",
    "\n",
    "## (This part is not necessary to run)"
   ]
  },
  {
   "cell_type": "code",
   "execution_count": null,
   "metadata": {},
   "outputs": [],
   "source": [
    "# data.spectra -- the data as one large dataframe vs voltage\n",
    "data.spectra"
   ]
  },
  {
   "cell_type": "code",
   "execution_count": null,
   "metadata": {},
   "outputs": [],
   "source": [
    "# All the spectra vs time\n",
    "data.spectra_vs_time"
   ]
  },
  {
   "cell_type": "code",
   "execution_count": null,
   "metadata": {},
   "outputs": [],
   "source": [
    "data.time_spectra_norm # normalized time-dependent spectra"
   ]
  },
  {
   "cell_type": "code",
   "execution_count": null,
   "metadata": {},
   "outputs": [],
   "source": [
    "data.time_spectra # un-normalized time-dependent spectra"
   ]
  }
 ],
 "metadata": {
  "kernelspec": {
   "display_name": "Python 3",
   "language": "python",
   "name": "python3"
  },
  "language_info": {
   "codemirror_mode": {
    "name": "ipython",
    "version": 3
   },
   "file_extension": ".py",
   "mimetype": "text/x-python",
   "name": "python",
   "nbconvert_exporter": "python",
   "pygments_lexer": "ipython3",
   "version": "3.7.0"
  }
 },
 "nbformat": 4,
 "nbformat_minor": 2
}
